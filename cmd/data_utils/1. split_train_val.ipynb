{
 "cells": [
  {
   "cell_type": "markdown",
   "id": "compact-lafayette",
   "metadata": {},
   "source": [
    "# DEFT 2021 : split train set into train and validation"
   ]
  },
  {
   "cell_type": "code",
   "execution_count": 6,
   "id": "metropolitan-kuwait",
   "metadata": {},
   "outputs": [],
   "source": [
    "import pandas as pd\n",
    "import numpy as np\n",
    "IN_DATASET_FILE = '../data/release/classes-train-v2.txt'\n",
    "\n",
    "OUT_TRAIN_FILE = '../data/work/classes-train-train.txt'\n",
    "OUT_VAL_FILE = '../data/work/classes-train-val.txt'\n",
    "\n",
    "VAL_RATE = 0.1"
   ]
  },
  {
   "cell_type": "markdown",
   "id": "serious-sheep",
   "metadata": {},
   "source": [
    "## Split DEFT training set into validation and training"
   ]
  },
  {
   "cell_type": "code",
   "execution_count": 7,
   "id": "variable-circus",
   "metadata": {},
   "outputs": [],
   "source": [
    "orig_df = pd.read_csv(IN_DATASET_FILE, sep='\\t', header=None, names=['file', 'label', 'desc'])\n",
    "\n",
    "file_list = orig_df['file'].unique()\n",
    "np.random.seed(42)\n",
    "np.random.shuffle(file_list)\n",
    "\n",
    "position = int(len(file_list) * VAL_RATE)\n",
    "\n",
    "val_list = file_list[:position]\n",
    "train_list = file_list[position:]\n",
    "\n",
    "val_df = orig_df[orig_df['file'].isin(val_list)]\n",
    "train_df = orig_df[orig_df['file'].isin(train_list)]\n",
    "\n",
    "assert len(val_df) + len(train_df) == len(orig_df)"
   ]
  },
  {
   "cell_type": "code",
   "execution_count": 8,
   "id": "north-biology",
   "metadata": {},
   "outputs": [],
   "source": [
    "val_df.to_csv(OUT_VAL_FILE, sep=\"\\t\", header=None)\n",
    "train_df.to_csv(OUT_TRAIN_FILE, sep=\"\\t\", header=None)"
   ]
  }
 ],
 "metadata": {
  "kernelspec": {
   "display_name": "Python 3",
   "language": "python",
   "name": "python3"
  },
  "language_info": {
   "codemirror_mode": {
    "name": "ipython",
    "version": 3
   },
   "file_extension": ".py",
   "mimetype": "text/x-python",
   "name": "python",
   "nbconvert_exporter": "python",
   "pygments_lexer": "ipython3",
   "version": "3.8.8"
  }
 },
 "nbformat": 4,
 "nbformat_minor": 5
}
